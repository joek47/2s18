{
 "cells": [
  {
   "cell_type": "code",
   "execution_count": null,
   "metadata": {
    "_uuid": "b4fcdccb3d1457b22ada813defcd975795eb5072"
   },
   "outputs": [],
   "source": [
    "import pandas as pd\n",
    "import numpy as np\n",
    "import xgboost as xgb\n",
    "from sklearn.metrics import mean_squared_error\n",
    "from kaggle.competitions import twosigmanews\n",
    "from math import sqrt\n",
    "import matplotlib.pyplot as plt\n",
    "\n",
    "env = twosigmanews.make_env()\n",
    "(m_train_df, n_train_df) = env.get_training_data()\n",
    "m_train_df.dropna(inplace= True)\n",
    "m_train_df_2013 = m_train_df[m_train_df.time.dt.year >= 2013]"
   ]
  },
  {
   "cell_type": "code",
   "execution_count": null,
   "metadata": {
    "_uuid": "4243d1ee322589d39383010233df21c80aa0fd0f"
   },
   "outputs": [],
   "source": [
    "#Subset news data\n",
    "n_train_df_2013 = n_train_df[n_train_df.time.dt.year >= 2013].copy()"
   ]
  },
  {
   "cell_type": "code",
   "execution_count": null,
   "metadata": {
    "_uuid": "5508beeaeaf321741fb7f9aecac200b7aae1159d"
   },
   "outputs": [],
   "source": [
    "news_var = ['time','assetName', 'bodySize','companyCount','sentenceCount','wordCount',\n",
    "                                  'firstMentionSentence','relevance','sentimentClass','sentimentNegative',\n",
    "                                   'sentimentNeutral','sentimentPositive','sentimentWordCount','noveltyCount12H',\n",
    "                                   'noveltyCount24H','noveltyCount3D','noveltyCount5D','noveltyCount7D',\n",
    "                                   'volumeCounts12H','volumeCounts24H','volumeCounts3D','volumeCounts5D','volumeCounts7D'\n",
    "                                  ]"
   ]
  },
  {
   "cell_type": "code",
   "execution_count": null,
   "metadata": {
    "_uuid": "325b82b565ec841abaa108d5e7bbd74455ac2996"
   },
   "outputs": [],
   "source": [
    "n_train_df_2013 = n_train_df_2013[news_var]\n",
    "n_train_df_2013['date'] = n_train_df_2013.time.dt.date"
   ]
  },
  {
   "cell_type": "code",
   "execution_count": null,
   "metadata": {
    "_uuid": "b86b398f41b089a1d58cfd2e83b087607d51ac21"
   },
   "outputs": [],
   "source": [
    "n_train_df_2013.groupby(['date','assetName']).size().head(15)"
   ]
  },
  {
   "cell_type": "code",
   "execution_count": null,
   "metadata": {
    "_uuid": "325b82b565ec841abaa108d5e7bbd74455ac2996"
   },
   "outputs": [],
   "source": [
    "#Group to get day & assetName level data \n",
    "n_train_df_grp = n_train_df_2013.groupby(['date','assetName']).mean().reset_index()"
   ]
  },
  {
   "cell_type": "code",
   "execution_count": null,
   "metadata": {
    "_uuid": "16128b3856547f050aa6e49460a8223623597eae"
   },
   "outputs": [],
   "source": [
    "m_train_df_2013['date'] = m_train_df_2013.time.dt.date\n",
    "m_train_df_2013 = pd.merge(m_train_df_2013,n_train_df_grp,how='left',on = ['assetName','date'])\n",
    "# m_train_df_2013.head()"
   ]
  },
  {
   "cell_type": "code",
   "execution_count": null,
   "metadata": {
    "_uuid": "c6ca93faf51e19d43b52b5d003e8ccf1b26ce0fe"
   },
   "outputs": [],
   "source": [
    "m_train_df_2013.isna().sum()/m_train_df_2013.shape[0]"
   ]
  },
  {
   "cell_type": "code",
   "execution_count": null,
   "metadata": {
    "_uuid": "16128b3856547f050aa6e49460a8223623597eae"
   },
   "outputs": [],
   "source": [
    "#Fill 0 for NA's in News data\n",
    "m_train_df_2013.fillna(0,inplace=True)"
   ]
  },
  {
   "cell_type": "code",
   "execution_count": null,
   "metadata": {
    "_uuid": "f01a4e08d5fb0b1aa1305670a17a1be1a090db7a"
   },
   "outputs": [],
   "source": [
    "del n_train_df_grp\n",
    "gc.collect()"
   ]
  },
  {
   "cell_type": "code",
   "execution_count": null,
   "metadata": {
    "_uuid": "4202951593c05265bb545adab09cbe120417fe6c"
   },
   "outputs": [],
   "source": [
    "#Find the correlations\n",
    "corr_1 = m_train_df_2013.corr()\n",
    "\n",
    "print(corr_1['returnsOpenNextMktres10'].sort_values(ascending = False))\n",
    "del corr_1"
   ]
  },
  {
   "cell_type": "code",
   "execution_count": null,
   "metadata": {
    "_uuid": "1db24de4180ff5664dd6bc90f8d9566c389c6021"
   },
   "outputs": [],
   "source": [
    "#Removing rows with universe 0\n",
    "m_train_df_2013 = m_train_df_2013[m_train_df_2013.universe == 1].copy()"
   ]
  },
  {
   "cell_type": "code",
   "execution_count": null,
   "metadata": {
    "_uuid": "c73392dcce53879d5477614900f8706bcfb2142f"
   },
   "outputs": [],
   "source": [
    "# Train/test split\n",
    "id_train = m_train_df_2013.time.dt.year != 2016\n",
    "id_test = m_train_df_2013.time.dt.year == 2016\n",
    "\n",
    "dep_var = 'returnsOpenNextMktres10'\n",
    "ind_var = ['volume', 'close', 'open', 'returnsClosePrevRaw1',\n",
    "       'returnsOpenPrevRaw1', 'returnsClosePrevMktres1',\n",
    "       'returnsOpenPrevMktres1', 'returnsClosePrevRaw10',\n",
    "       'returnsOpenPrevRaw10', 'returnsClosePrevMktres10',\n",
    "       'returnsOpenPrevMktres10','bodySize', 'companyCount', 'sentenceCount', 'wordCount',\n",
    "       'firstMentionSentence', 'relevance', 'sentimentClass',\n",
    "       'sentimentNegative', 'sentimentNeutral', 'sentimentPositive',\n",
    "       'sentimentWordCount', 'noveltyCount12H', 'noveltyCount24H',\n",
    "       'noveltyCount3D', 'noveltyCount5D', 'noveltyCount7D', 'volumeCounts12H',\n",
    "       'volumeCounts24H', 'volumeCounts3D', 'volumeCounts5D',\n",
    "       'volumeCounts7D']\n",
    "\n",
    "df_train = m_train_df_2013.loc[id_train,ind_var]\n",
    "df_test = m_train_df_2013.loc[id_test,ind_var]\n",
    "\n",
    "print(\"{0} training rows and {1} testing rows\".format(df_train.shape[0],df_test.shape[0]))\n",
    "\n",
    "\n",
    "y_train = m_train_df_2013.loc[id_train,dep_var]\n",
    "y_test = m_train_df_2013.loc[id_test,dep_var]"
   ]
  },
  {
   "cell_type": "code",
   "execution_count": null,
   "metadata": {
    "_uuid": "08f964e9b6198f8fbc0c2c3e7d80e34751d28809"
   },
   "outputs": [],
   "source": [
    "xg_reg = xgb.XGBRegressor(objective ='reg:linear', colsample_bytree = 0.3, learning_rate = 0.1,\n",
    "                max_depth = 5, alpha = 10, n_estimators = 100)\n",
    "\n",
    "xg_reg.fit(df_train,y_train)"
   ]
  },
  {
   "cell_type": "code",
   "execution_count": null,
   "metadata": {
    "_uuid": "08f964e9b6198f8fbc0c2c3e7d80e34751d28809"
   },
   "outputs": [],
   "source": [
    "xgb.plot_importance(xg_reg,max_num_features = 15)\n",
    "plt.rcParams['figure.figsize'] = [5, 5]\n",
    "plt.show()"
   ]
  },
  {
   "cell_type": "code",
   "execution_count": null,
   "metadata": {
    "_uuid": "233ee486678945473444678e8bb4a83740311780"
   },
   "outputs": [],
   "source": [
    "pred_train = xg_reg.predict(df_train)\n",
    "rms_train = sqrt(mean_squared_error(y_train, pred_train))\n",
    "\n",
    "pred_test = xg_reg.predict(df_test)\n",
    "rms_test = sqrt(mean_squared_error(y_test, pred_test))\n",
    "\n",
    "print('Train RMSE: {0} Test RMSE: {1}'.format(rms_train,rms_test))"
   ]
  },
  {
   "cell_type": "code",
   "execution_count": null,
   "metadata": {
    "_uuid": "233ee486678945473444678e8bb4a83740311780"
   },
   "outputs": [],
   "source": [
    "pred_test_df = m_train_df_2013.loc[id_test,['time','assetCode','universe','returnsOpenNextMktres10']]\n",
    "pred_test_df['dayofyear'] = pred_test_df.time.dt.dayofyear\n",
    "pred_test_df['confidence'] = [1 if pred >=0 else -1 for pred in pred_test]\n",
    "pred_test_df['score'] = pred_test_df.universe * pred_test_df.returnsOpenNextMktres10 * pred_test_df.confidence\n",
    "print(pred_test_df.confidence.value_counts())\n",
    "\n",
    "score_1 = pred_test_df.groupby(['dayofyear']).score.sum()\n",
    "score_2 = score_1.mean()/ score_1.std()\n",
    "print(\"\\n Competition Score: \",np.round(score_2,4))"
   ]
  },
  {
   "cell_type": "markdown",
   "metadata": {
    "_uuid": "cc773c81cd4c2a8082c73a5b4f5c46a73bff2b7e"
   },
   "source": [
    "#### Submisson creation"
   ]
  },
  {
   "cell_type": "code",
   "execution_count": null,
   "metadata": {
    "_uuid": "233ee486678945473444678e8bb4a83740311780"
   },
   "outputs": [],
   "source": [
    "days = env.get_prediction_days()"
   ]
  },
  {
   "cell_type": "code",
   "execution_count": null,
   "metadata": {
    "_uuid": "233ee486678945473444678e8bb4a83740311780"
   },
   "outputs": [],
   "source": [
    "def make_predictions(market_obs_df,news_obs_df,predictions_df,ind_var,news_var,xg_reg):\n",
    "    \n",
    "    #Process news data\n",
    "    news_obs_df = news_obs_df.loc[:,news_var]\n",
    "    news_obs_df['date'] = news_obs_df.time.dt.date\n",
    "    n_train_df_grp = news_obs_df.groupby(['date','assetName']).mean().reset_index()\n",
    "    \n",
    "    #Merge the market and news data\n",
    "    market_obs_df['date'] = market_obs_df.time.dt.date\n",
    "    market_obs_df = pd.merge(market_obs_df,n_train_df_grp,how='left',on = ['assetName','date'])\n",
    "\n",
    "    #Fill 0 for NA's in News data\n",
    "    market_obs_df.fillna(0,inplace = True)\n",
    "    test = market_obs_df.loc[:,ind_var]\n",
    "    predictions_df.confidenceValue = [1 if  pred >=0 else -1 for pred in xg_reg.predict(test)]"
   ]
  },
  {
   "cell_type": "code",
   "execution_count": null,
   "metadata": {
    "_uuid": "233ee486678945473444678e8bb4a83740311780"
   },
   "outputs": [],
   "source": [
    "for (market_obs_df, news_obs_df, predictions_template_df) in days:\n",
    "    make_predictions(market_obs_df,news_obs_df,predictions_template_df,ind_var,news_var,xg_reg)\n",
    "    env.predict(predictions_template_df)\n",
    "print('Done!')"
   ]
  },
  {
   "cell_type": "code",
   "execution_count": null,
   "metadata": {
    "_uuid": "9972b4ecc50b15e5433b117f68b1a14a133aca58"
   },
   "outputs": [],
   "source": [
    "env.write_submission_file()"
   ]
  }
 ],
 "metadata": {
  "kernelspec": {
   "display_name": "Python 3",
   "language": "python",
   "name": "python3"
  },
  "language_info": {
   "codemirror_mode": {
    "name": "ipython",
    "version": 3
   },
   "file_extension": ".py",
   "mimetype": "text/x-python",
   "name": "python",
   "nbconvert_exporter": "python",
   "pygments_lexer": "ipython3",
   "version": "3.6.4"
  }
 },
 "nbformat": 4,
 "nbformat_minor": 1
}
